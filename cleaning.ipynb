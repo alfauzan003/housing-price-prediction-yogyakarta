{
 "cells": [
  {
   "attachments": {},
   "cell_type": "markdown",
   "metadata": {},
   "source": [
    "## Cleaning data"
   ]
  },
  {
   "attachments": {},
   "cell_type": "markdown",
   "metadata": {},
   "source": [
    "### 1. Read data"
   ]
  },
  {
   "cell_type": "code",
   "execution_count": 1,
   "metadata": {},
   "outputs": [],
   "source": [
    "import pandas as pd\n",
    "data = pd.read_csv(\"data/rumahcom.csv\")"
   ]
  },
  {
   "attachments": {},
   "cell_type": "markdown",
   "metadata": {},
   "source": [
    "### 2. Delete null row"
   ]
  },
  {
   "cell_type": "code",
   "execution_count": 2,
   "metadata": {},
   "outputs": [],
   "source": [
    "data = data[data[\"harga\"].notnull()]\n",
    "data = data[data[\"lokasi\"].notnull()]\n",
    "data = data[data[\"luas_bangunan\"].notnull()]\n",
    "data = data[data[\"luas_tanah\"].notnull()]\n",
    "data = data[data[\"kamar\"].notnull()]\n",
    "data = data[data[\"kamar_mandi\"].notnull()]\n",
    "data = data[data[\"listrik\"].notnull()]\n",
    "data = data[data[\"interior\"].notnull()]\n",
    "data = data[data[\"parkir\"].notnull()]\n",
    "data = data[data[\"sertifikat\"].notnull()]"
   ]
  },
  {
   "attachments": {},
   "cell_type": "markdown",
   "metadata": {},
   "source": [
    "### 3. Delete unnecessary column"
   ]
  },
  {
   "cell_type": "code",
   "execution_count": 3,
   "metadata": {},
   "outputs": [],
   "source": [
    "# Delete column web-scraper-order, web-scraper-start-url, title, title-href, nama\n",
    "data = data.drop([\"web-scraper-order\", \"web-scraper-start-url\", \"title\", \"title-href\", \"nama\"], axis=1)"
   ]
  },
  {
   "attachments": {},
   "cell_type": "markdown",
   "metadata": {},
   "source": [
    "### 4. Clean lokasi"
   ]
  },
  {
   "cell_type": "code",
   "execution_count": 4,
   "metadata": {},
   "outputs": [],
   "source": [
    "# Split the address into parts using comma as the delimiter\n",
    "data[\"lokasi\"] = data[\"lokasi\"].str.split(\",\")\n",
    "# Keep the last two parts of the address and join them back into a single string\n",
    "data[\"lokasi\"] = data[\"lokasi\"].apply(lambda x: \", \".join(x[-2:]))\n",
    "# Delete behind the comma from lokasi\n",
    "data[\"lokasi\"] = data[\"lokasi\"].str.split(\",\").str[0]\n",
    "# Remove whitespace from the beginning and end of the string of lokasi\n",
    "data[\"lokasi\"] = data[\"lokasi\"].str.strip()"
   ]
  },
  {
   "attachments": {},
   "cell_type": "markdown",
   "metadata": {},
   "source": [
    "### 5. Clean harga"
   ]
  },
  {
   "cell_type": "code",
   "execution_count": 18,
   "metadata": {},
   "outputs": [],
   "source": [
    "# Clean harga M\n",
    "for i, value in enumerate(data[\"harga\"]):\n",
    "    if isinstance(value, str):\n",
    "        try:\n",
    "            data.loc[i, \"harga\"] = float(value.replace(\"Rp\", \"\").replace(\" \", \"\").replace(\"M\", \"\").replace(\",\", \".\")) * 1000000000\n",
    "        except ValueError:\n",
    "            pass"
   ]
  },
  {
   "cell_type": "code",
   "execution_count": 20,
   "metadata": {},
   "outputs": [],
   "source": [
    "# Clean harga jt\n",
    "for i, value in enumerate(data[\"harga\"]):\n",
    "    if isinstance(value, str):\n",
    "        try:\n",
    "            data.loc[i, \"harga\"] = float(value.replace(\"Rp\", \"\").replace(\" \", \"\").replace(\"jt\", \"\").replace(\",\", \".\")) * 1000000\n",
    "        except ValueError:\n",
    "            pass"
   ]
  },
  {
   "cell_type": "code",
   "execution_count": null,
   "metadata": {},
   "outputs": [],
   "source": [
    "# Clean harga rb\n",
    "data = data[~data[\"harga\"].astype(str).str.contains(\"rb\")]"
   ]
  },
  {
   "attachments": {},
   "cell_type": "markdown",
   "metadata": {},
   "source": [
    "### 6. Clean luas_bangunan"
   ]
  },
  {
   "cell_type": "code",
   "execution_count": 6,
   "metadata": {},
   "outputs": [],
   "source": [
    "# Remove after whitespace from luas_bangunan\n",
    "data[\"luas_bangunan\"] = data[\"luas_bangunan\"].str.split(\" \").str[0]"
   ]
  },
  {
   "attachments": {},
   "cell_type": "markdown",
   "metadata": {},
   "source": [
    "### 7. Clean luas_tanah"
   ]
  },
  {
   "cell_type": "code",
   "execution_count": 7,
   "metadata": {},
   "outputs": [],
   "source": [
    "# Remove after whitespace from luas_tanah\n",
    "data[\"luas_tanah\"] = data[\"luas_tanah\"].str.split(\" \").str[0]\n",
    "\n",
    "# Remove , from luas_tanah\n",
    "data[\"luas_tanah\"] = data[\"luas_tanah\"].str.replace(\",\", \"\")"
   ]
  },
  {
   "attachments": {},
   "cell_type": "markdown",
   "metadata": {},
   "source": [
    "### 8. Clean kamar"
   ]
  },
  {
   "cell_type": "code",
   "execution_count": 8,
   "metadata": {},
   "outputs": [],
   "source": [
    "data[\"kamar\"] = data[\"kamar\"].str.split(\" \").str[0]"
   ]
  },
  {
   "attachments": {},
   "cell_type": "markdown",
   "metadata": {},
   "source": [
    "### 9. Clean kamar_mandi"
   ]
  },
  {
   "cell_type": "code",
   "execution_count": 9,
   "metadata": {},
   "outputs": [],
   "source": [
    "data[\"kamar_mandi\"] = data[\"kamar_mandi\"].str.split(\" \").str[0]"
   ]
  },
  {
   "attachments": {},
   "cell_type": "markdown",
   "metadata": {},
   "source": [
    "### 10. Clean listrik"
   ]
  },
  {
   "cell_type": "code",
   "execution_count": 10,
   "metadata": {},
   "outputs": [],
   "source": [
    "data[\"listrik\"] = data[\"listrik\"].str.split(\" \").str[0]"
   ]
  },
  {
   "attachments": {},
   "cell_type": "markdown",
   "metadata": {},
   "source": [
    "### 11. Convert to numerical data"
   ]
  },
  {
   "cell_type": "code",
   "execution_count": 23,
   "metadata": {},
   "outputs": [
    {
     "name": "stdout",
     "output_type": "stream",
     "text": [
      "             harga      lokasi luas_bangunan luas_tanah kamar kamar_mandi  \\\n",
      "1      490000000.0      Sleman            90        100     3           2   \n",
      "2      780293930.0      Sleman            60         90     3           1   \n",
      "3  Rp 780,29393 jt      Sleman            84        100     3           2   \n",
      "4     1799000000.0      Sleman            84        100     3           2   \n",
      "5     1799000000.0  Yogyakarta           154        130     3           3   \n",
      "\n",
      "  listrik        interior  parkir                  sertifikat  \n",
      "1    1300  Tak Berperabot     2.0  SHM - Sertifikat Hak Milik  \n",
      "2    1300  Tak Berperabot     1.0  SHM - Sertifikat Hak Milik  \n",
      "3    1300  Tak Berperabot     2.0  SHM - Sertifikat Hak Milik  \n",
      "4    1300  Tak Berperabot     1.0  SHM - Sertifikat Hak Milik  \n",
      "5    2200  Tak Berperabot     2.0  SHM - Sertifikat Hak Milik  \n"
     ]
    },
    {
     "ename": "ValueError",
     "evalue": "cannot convert float NaN to integer",
     "output_type": "error",
     "traceback": [
      "\u001b[0;31m---------------------------------------------------------------------------\u001b[0m",
      "\u001b[0;31mValueError\u001b[0m                                Traceback (most recent call last)",
      "Cell \u001b[0;32mIn[23], line 9\u001b[0m\n\u001b[1;32m      2\u001b[0m \u001b[39mprint\u001b[39m(data\u001b[39m.\u001b[39mhead())\n\u001b[1;32m      3\u001b[0m \u001b[39m# data[\"harga\"] = data[\"harga\"].astype(float)\u001b[39;00m\n\u001b[1;32m      4\u001b[0m \u001b[39m# data[\"kamar_mandi\"] = data[\"kamar_mandi\"].astype(int)\u001b[39;00m\n\u001b[1;32m      5\u001b[0m \u001b[39m# data[\"kamar\"] = data[\"kamar\"].astype(int)\u001b[39;00m\n\u001b[1;32m      6\u001b[0m \u001b[39m# data[\"luas_tanah\"] = data[\"luas_tanah\"].astype(int)\u001b[39;00m\n\u001b[1;32m      7\u001b[0m \u001b[39m# data[\"luas_bangunan\"] = data[\"luas_bangunan\"].astype(int)\u001b[39;00m\n\u001b[1;32m      8\u001b[0m \u001b[39m# data[\"parkir\"] = data[\"parkir\"].astype(int)\u001b[39;00m\n\u001b[0;32m----> 9\u001b[0m data[\u001b[39m\"\u001b[39m\u001b[39mlistrik\u001b[39m\u001b[39m\"\u001b[39m] \u001b[39m=\u001b[39m data[\u001b[39m\"\u001b[39;49m\u001b[39mlistrik\u001b[39;49m\u001b[39m\"\u001b[39;49m]\u001b[39m.\u001b[39;49mastype(\u001b[39mint\u001b[39;49m)\n",
      "File \u001b[0;32m~/.local/lib/python3.11/site-packages/pandas/core/generic.py:6324\u001b[0m, in \u001b[0;36mNDFrame.astype\u001b[0;34m(self, dtype, copy, errors)\u001b[0m\n\u001b[1;32m   6317\u001b[0m     results \u001b[39m=\u001b[39m [\n\u001b[1;32m   6318\u001b[0m         \u001b[39mself\u001b[39m\u001b[39m.\u001b[39miloc[:, i]\u001b[39m.\u001b[39mastype(dtype, copy\u001b[39m=\u001b[39mcopy)\n\u001b[1;32m   6319\u001b[0m         \u001b[39mfor\u001b[39;00m i \u001b[39min\u001b[39;00m \u001b[39mrange\u001b[39m(\u001b[39mlen\u001b[39m(\u001b[39mself\u001b[39m\u001b[39m.\u001b[39mcolumns))\n\u001b[1;32m   6320\u001b[0m     ]\n\u001b[1;32m   6322\u001b[0m \u001b[39melse\u001b[39;00m:\n\u001b[1;32m   6323\u001b[0m     \u001b[39m# else, only a single dtype is given\u001b[39;00m\n\u001b[0;32m-> 6324\u001b[0m     new_data \u001b[39m=\u001b[39m \u001b[39mself\u001b[39;49m\u001b[39m.\u001b[39;49m_mgr\u001b[39m.\u001b[39;49mastype(dtype\u001b[39m=\u001b[39;49mdtype, copy\u001b[39m=\u001b[39;49mcopy, errors\u001b[39m=\u001b[39;49merrors)\n\u001b[1;32m   6325\u001b[0m     \u001b[39mreturn\u001b[39;00m \u001b[39mself\u001b[39m\u001b[39m.\u001b[39m_constructor(new_data)\u001b[39m.\u001b[39m__finalize__(\u001b[39mself\u001b[39m, method\u001b[39m=\u001b[39m\u001b[39m\"\u001b[39m\u001b[39mastype\u001b[39m\u001b[39m\"\u001b[39m)\n\u001b[1;32m   6327\u001b[0m \u001b[39m# GH 33113: handle empty frame or series\u001b[39;00m\n",
      "File \u001b[0;32m~/.local/lib/python3.11/site-packages/pandas/core/internals/managers.py:451\u001b[0m, in \u001b[0;36mBaseBlockManager.astype\u001b[0;34m(self, dtype, copy, errors)\u001b[0m\n\u001b[1;32m    448\u001b[0m \u001b[39melif\u001b[39;00m using_copy_on_write():\n\u001b[1;32m    449\u001b[0m     copy \u001b[39m=\u001b[39m \u001b[39mFalse\u001b[39;00m\n\u001b[0;32m--> 451\u001b[0m \u001b[39mreturn\u001b[39;00m \u001b[39mself\u001b[39;49m\u001b[39m.\u001b[39;49mapply(\n\u001b[1;32m    452\u001b[0m     \u001b[39m\"\u001b[39;49m\u001b[39mastype\u001b[39;49m\u001b[39m\"\u001b[39;49m,\n\u001b[1;32m    453\u001b[0m     dtype\u001b[39m=\u001b[39;49mdtype,\n\u001b[1;32m    454\u001b[0m     copy\u001b[39m=\u001b[39;49mcopy,\n\u001b[1;32m    455\u001b[0m     errors\u001b[39m=\u001b[39;49merrors,\n\u001b[1;32m    456\u001b[0m     using_cow\u001b[39m=\u001b[39;49musing_copy_on_write(),\n\u001b[1;32m    457\u001b[0m )\n",
      "File \u001b[0;32m~/.local/lib/python3.11/site-packages/pandas/core/internals/managers.py:352\u001b[0m, in \u001b[0;36mBaseBlockManager.apply\u001b[0;34m(self, f, align_keys, **kwargs)\u001b[0m\n\u001b[1;32m    350\u001b[0m         applied \u001b[39m=\u001b[39m b\u001b[39m.\u001b[39mapply(f, \u001b[39m*\u001b[39m\u001b[39m*\u001b[39mkwargs)\n\u001b[1;32m    351\u001b[0m     \u001b[39melse\u001b[39;00m:\n\u001b[0;32m--> 352\u001b[0m         applied \u001b[39m=\u001b[39m \u001b[39mgetattr\u001b[39;49m(b, f)(\u001b[39m*\u001b[39;49m\u001b[39m*\u001b[39;49mkwargs)\n\u001b[1;32m    353\u001b[0m     result_blocks \u001b[39m=\u001b[39m extend_blocks(applied, result_blocks)\n\u001b[1;32m    355\u001b[0m out \u001b[39m=\u001b[39m \u001b[39mtype\u001b[39m(\u001b[39mself\u001b[39m)\u001b[39m.\u001b[39mfrom_blocks(result_blocks, \u001b[39mself\u001b[39m\u001b[39m.\u001b[39maxes)\n",
      "File \u001b[0;32m~/.local/lib/python3.11/site-packages/pandas/core/internals/blocks.py:511\u001b[0m, in \u001b[0;36mBlock.astype\u001b[0;34m(self, dtype, copy, errors, using_cow)\u001b[0m\n\u001b[1;32m    491\u001b[0m \u001b[39m\u001b[39m\u001b[39m\"\"\"\u001b[39;00m\n\u001b[1;32m    492\u001b[0m \u001b[39mCoerce to the new dtype.\u001b[39;00m\n\u001b[1;32m    493\u001b[0m \n\u001b[0;32m   (...)\u001b[0m\n\u001b[1;32m    507\u001b[0m \u001b[39mBlock\u001b[39;00m\n\u001b[1;32m    508\u001b[0m \u001b[39m\"\"\"\u001b[39;00m\n\u001b[1;32m    509\u001b[0m values \u001b[39m=\u001b[39m \u001b[39mself\u001b[39m\u001b[39m.\u001b[39mvalues\n\u001b[0;32m--> 511\u001b[0m new_values \u001b[39m=\u001b[39m astype_array_safe(values, dtype, copy\u001b[39m=\u001b[39;49mcopy, errors\u001b[39m=\u001b[39;49merrors)\n\u001b[1;32m    513\u001b[0m new_values \u001b[39m=\u001b[39m maybe_coerce_values(new_values)\n\u001b[1;32m    515\u001b[0m refs \u001b[39m=\u001b[39m \u001b[39mNone\u001b[39;00m\n",
      "File \u001b[0;32m~/.local/lib/python3.11/site-packages/pandas/core/dtypes/astype.py:242\u001b[0m, in \u001b[0;36mastype_array_safe\u001b[0;34m(values, dtype, copy, errors)\u001b[0m\n\u001b[1;32m    239\u001b[0m     dtype \u001b[39m=\u001b[39m dtype\u001b[39m.\u001b[39mnumpy_dtype\n\u001b[1;32m    241\u001b[0m \u001b[39mtry\u001b[39;00m:\n\u001b[0;32m--> 242\u001b[0m     new_values \u001b[39m=\u001b[39m astype_array(values, dtype, copy\u001b[39m=\u001b[39;49mcopy)\n\u001b[1;32m    243\u001b[0m \u001b[39mexcept\u001b[39;00m (\u001b[39mValueError\u001b[39;00m, \u001b[39mTypeError\u001b[39;00m):\n\u001b[1;32m    244\u001b[0m     \u001b[39m# e.g. _astype_nansafe can fail on object-dtype of strings\u001b[39;00m\n\u001b[1;32m    245\u001b[0m     \u001b[39m#  trying to convert to float\u001b[39;00m\n\u001b[1;32m    246\u001b[0m     \u001b[39mif\u001b[39;00m errors \u001b[39m==\u001b[39m \u001b[39m\"\u001b[39m\u001b[39mignore\u001b[39m\u001b[39m\"\u001b[39m:\n",
      "File \u001b[0;32m~/.local/lib/python3.11/site-packages/pandas/core/dtypes/astype.py:187\u001b[0m, in \u001b[0;36mastype_array\u001b[0;34m(values, dtype, copy)\u001b[0m\n\u001b[1;32m    184\u001b[0m     values \u001b[39m=\u001b[39m values\u001b[39m.\u001b[39mastype(dtype, copy\u001b[39m=\u001b[39mcopy)\n\u001b[1;32m    186\u001b[0m \u001b[39melse\u001b[39;00m:\n\u001b[0;32m--> 187\u001b[0m     values \u001b[39m=\u001b[39m _astype_nansafe(values, dtype, copy\u001b[39m=\u001b[39;49mcopy)\n\u001b[1;32m    189\u001b[0m \u001b[39m# in pandas we don't store numpy str dtypes, so convert to object\u001b[39;00m\n\u001b[1;32m    190\u001b[0m \u001b[39mif\u001b[39;00m \u001b[39misinstance\u001b[39m(dtype, np\u001b[39m.\u001b[39mdtype) \u001b[39mand\u001b[39;00m \u001b[39missubclass\u001b[39m(values\u001b[39m.\u001b[39mdtype\u001b[39m.\u001b[39mtype, \u001b[39mstr\u001b[39m):\n",
      "File \u001b[0;32m~/.local/lib/python3.11/site-packages/pandas/core/dtypes/astype.py:138\u001b[0m, in \u001b[0;36m_astype_nansafe\u001b[0;34m(arr, dtype, copy, skipna)\u001b[0m\n\u001b[1;32m    134\u001b[0m     \u001b[39mraise\u001b[39;00m \u001b[39mValueError\u001b[39;00m(msg)\n\u001b[1;32m    136\u001b[0m \u001b[39mif\u001b[39;00m copy \u001b[39mor\u001b[39;00m is_object_dtype(arr\u001b[39m.\u001b[39mdtype) \u001b[39mor\u001b[39;00m is_object_dtype(dtype):\n\u001b[1;32m    137\u001b[0m     \u001b[39m# Explicit copy, or required since NumPy can't view from / to object.\u001b[39;00m\n\u001b[0;32m--> 138\u001b[0m     \u001b[39mreturn\u001b[39;00m arr\u001b[39m.\u001b[39;49mastype(dtype, copy\u001b[39m=\u001b[39;49m\u001b[39mTrue\u001b[39;49;00m)\n\u001b[1;32m    140\u001b[0m \u001b[39mreturn\u001b[39;00m arr\u001b[39m.\u001b[39mastype(dtype, copy\u001b[39m=\u001b[39mcopy)\n",
      "\u001b[0;31mValueError\u001b[0m: cannot convert float NaN to integer"
     ]
    }
   ],
   "source": [
    "# Convert data to integer\n",
    "# data[\"harga\"] = data[\"harga\"].astype(float)\n",
    "# data[\"kamar_mandi\"] = data[\"kamar_mandi\"].astype(int)\n",
    "# data[\"kamar\"] = data[\"kamar\"].astype(int)\n",
    "# data[\"luas_tanah\"] = data[\"luas_tanah\"].astype(int)\n",
    "# data[\"luas_bangunan\"] = data[\"luas_bangunan\"].astype(int)\n",
    "# data[\"parkir\"] = data[\"parkir\"].astype(int)\n",
    "# data[\"listrik\"] = data[\"listrik\"].astype(int)"
   ]
  },
  {
   "attachments": {},
   "cell_type": "markdown",
   "metadata": {},
   "source": [
    "### 12. Export cleaned data"
   ]
  },
  {
   "cell_type": "code",
   "execution_count": 12,
   "metadata": {},
   "outputs": [
    {
     "name": "stdout",
     "output_type": "stream",
     "text": [
      "             harga      lokasi  luas_bangunan  luas_tanah  kamar  kamar_mandi  \\\n",
      "0      490000000.0      Sleman           90.0       100.0    3.0          2.0   \n",
      "1      780293930.0      Sleman           60.0        90.0    3.0          1.0   \n",
      "2  Rp 780,29393 jt      Sleman           84.0       100.0    3.0          2.0   \n",
      "3     1799000000.0      Sleman           84.0       100.0    3.0          2.0   \n",
      "4     1799000000.0  Yogyakarta          154.0       130.0    3.0          3.0   \n",
      "\n",
      "   listrik        interior  parkir                  sertifikat  \n",
      "0   1300.0  Tak Berperabot     2.0  SHM - Sertifikat Hak Milik  \n",
      "1   1300.0  Tak Berperabot     1.0  SHM - Sertifikat Hak Milik  \n",
      "2   1300.0  Tak Berperabot     2.0  SHM - Sertifikat Hak Milik  \n",
      "3   1300.0  Tak Berperabot     1.0  SHM - Sertifikat Hak Milik  \n",
      "4   2200.0  Tak Berperabot     2.0  SHM - Sertifikat Hak Milik  \n"
     ]
    }
   ],
   "source": [
    "# Save the updated data to a new CSV file\n",
    "data.to_csv(\"data/updated_file.csv\", index=False)\n",
    "updated_data = pd.read_csv(\"data/updated_file.csv\")\n",
    "print(updated_data.head())"
   ]
  }
 ],
 "metadata": {
  "kernelspec": {
   "display_name": "Python 3",
   "language": "python",
   "name": "python3"
  },
  "language_info": {
   "codemirror_mode": {
    "name": "ipython",
    "version": 3
   },
   "file_extension": ".py",
   "mimetype": "text/x-python",
   "name": "python",
   "nbconvert_exporter": "python",
   "pygments_lexer": "ipython3",
   "version": "3.11.3"
  },
  "orig_nbformat": 4
 },
 "nbformat": 4,
 "nbformat_minor": 2
}
